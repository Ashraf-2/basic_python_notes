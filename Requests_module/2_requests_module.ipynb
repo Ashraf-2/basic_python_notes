{
 "cells": [
  {
   "cell_type": "code",
   "execution_count": 2,
   "id": "d9e63fa6-c883-42de-8568-5b1aded0ef5d",
   "metadata": {},
   "outputs": [
    {
     "name": "stdout",
     "output_type": "stream",
     "text": [
      "hello\n"
     ]
    }
   ],
   "source": [
    "print('hello')"
   ]
  },
  {
   "cell_type": "code",
   "execution_count": 8,
   "id": "fe2892ef-34c2-4177-a358-bd0b38e10cc4",
   "metadata": {},
   "outputs": [],
   "source": [
    "# download an image using python (successfull)\n",
    "import requests \n",
    "from PIL import Image \n",
    "from io import BytesIO \n",
    "response = requests.get(\"https://media.istockphoto.com/id/491647736/photo/show-jumping-horse-with-rider-jumping-over-hurdle.jpg?s=612x612&w=0&k=20&c=vt6gaul2KUfgmc3OJMWxoPkUuJSIl8_jpwCX_GAdORQ=\")\n",
    "# response.content\n",
    "image_file = Image.open(BytesIO(response.content))\n",
    "fp = open(\"horse_rider.jpg\",\"wb\")\n",
    "image_file.save(fp) \n",
    "fp.close()"
   ]
  },
  {
   "cell_type": "code",
   "execution_count": 9,
   "id": "206b6b82-4a0a-43bb-b274-10097180a46d",
   "metadata": {},
   "outputs": [],
   "source": [
    "# downlaod a file \n",
    "url = \"https://pixabay.com/sound-effects/chinese-beat-190047/\" \n",
    "r = requests.get(url) \n",
    "fp = open(\"chinese_beat.mp3\", \"wb\") \n",
    "fp.write(r.content) \n",
    "fp.close()"
   ]
  },
  {
   "cell_type": "code",
   "execution_count": 12,
   "id": "bb864591-043d-486f-9bcf-f1382d184e8d",
   "metadata": {},
   "outputs": [],
   "source": [
    "# download national antheme with streaming to see \n",
    "url = \"https://upload.wikimedia.org/wikipedia/commons/b/bc/Amar_Sonar_Bangla_-_official_vocal_music_of_the_National_anthem_of_Bangladesh.ogg\" \n",
    "r = requests.get(url, stream = True) \n",
    "\n",
    "# with open(\"national_antheme.mp3\", \"wb\"):\n",
    "#     for chunk in r.iter_content(chunk_size = 128):\n",
    "#         f.write(content)\n",
    "fp = open(\"national_antheme.mp3\", \"wb\") \n",
    "fp.write(r.content) \n",
    "fp.close()"
   ]
  },
  {
   "cell_type": "code",
   "execution_count": null,
   "id": "170ee36b-df68-4c7e-9b58-b0ee4c331604",
   "metadata": {},
   "outputs": [],
   "source": []
  }
 ],
 "metadata": {
  "kernelspec": {
   "display_name": "Python 3 (ipykernel)",
   "language": "python",
   "name": "python3"
  },
  "language_info": {
   "codemirror_mode": {
    "name": "ipython",
    "version": 3
   },
   "file_extension": ".py",
   "mimetype": "text/x-python",
   "name": "python",
   "nbconvert_exporter": "python",
   "pygments_lexer": "ipython3",
   "version": "3.11.4"
  },
  "widgets": {
   "application/vnd.jupyter.widget-state+json": {
    "state": {},
    "version_major": 2,
    "version_minor": 0
   }
  }
 },
 "nbformat": 4,
 "nbformat_minor": 5
}
