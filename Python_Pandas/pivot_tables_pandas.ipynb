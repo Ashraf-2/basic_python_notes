{
 "cells": [
  {
   "cell_type": "code",
   "execution_count": 1,
   "id": "a4b9a3f2-1da9-40dc-b75d-b1ca972eae8f",
   "metadata": {},
   "outputs": [],
   "source": [
    "import pandas as pd \n",
    "coffee_data = pd.read_csv('DataSource/modified_coffee.csv')\n"
   ]
  },
  {
   "cell_type": "code",
   "execution_count": 3,
   "id": "6bebe73f-dc10-4c50-8a9b-886562e555b1",
   "metadata": {},
   "outputs": [
    {
     "data": {
      "text/html": [
       "<div>\n",
       "<style scoped>\n",
       "    .dataframe tbody tr th:only-of-type {\n",
       "        vertical-align: middle;\n",
       "    }\n",
       "\n",
       "    .dataframe tbody tr th {\n",
       "        vertical-align: top;\n",
       "    }\n",
       "\n",
       "    .dataframe thead th {\n",
       "        text-align: right;\n",
       "    }\n",
       "</style>\n",
       "<table border=\"1\" class=\"dataframe\">\n",
       "  <thead>\n",
       "    <tr style=\"text-align: right;\">\n",
       "      <th></th>\n",
       "      <th>Day</th>\n",
       "      <th>Coffee Type</th>\n",
       "      <th>Units Sold</th>\n",
       "      <th>Price</th>\n",
       "      <th>Revenue</th>\n",
       "    </tr>\n",
       "  </thead>\n",
       "  <tbody>\n",
       "    <tr>\n",
       "      <th>0</th>\n",
       "      <td>Monday</td>\n",
       "      <td>Espresso</td>\n",
       "      <td>25</td>\n",
       "      <td>5.99</td>\n",
       "      <td>149.75</td>\n",
       "    </tr>\n",
       "    <tr>\n",
       "      <th>1</th>\n",
       "      <td>Monday</td>\n",
       "      <td>Cappuccino</td>\n",
       "      <td>15</td>\n",
       "      <td>5.99</td>\n",
       "      <td>89.85</td>\n",
       "    </tr>\n",
       "    <tr>\n",
       "      <th>2</th>\n",
       "      <td>Tuesday</td>\n",
       "      <td>Espresso</td>\n",
       "      <td>50</td>\n",
       "      <td>5.99</td>\n",
       "      <td>299.50</td>\n",
       "    </tr>\n",
       "    <tr>\n",
       "      <th>3</th>\n",
       "      <td>Tuesday</td>\n",
       "      <td>Latte</td>\n",
       "      <td>50</td>\n",
       "      <td>5.99</td>\n",
       "      <td>299.50</td>\n",
       "    </tr>\n",
       "    <tr>\n",
       "      <th>4</th>\n",
       "      <td>Wednesday</td>\n",
       "      <td>Espresso</td>\n",
       "      <td>35</td>\n",
       "      <td>5.99</td>\n",
       "      <td>209.65</td>\n",
       "    </tr>\n",
       "  </tbody>\n",
       "</table>\n",
       "</div>"
      ],
      "text/plain": [
       "         Day Coffee Type  Units Sold  Price  Revenue\n",
       "0     Monday    Espresso          25   5.99   149.75\n",
       "1     Monday  Cappuccino          15   5.99    89.85\n",
       "2    Tuesday    Espresso          50   5.99   299.50\n",
       "3    Tuesday       Latte          50   5.99   299.50\n",
       "4  Wednesday    Espresso          35   5.99   209.65"
      ]
     },
     "execution_count": 3,
     "metadata": {},
     "output_type": "execute_result"
    }
   ],
   "source": [
    "coffee_data.head()"
   ]
  },
  {
   "cell_type": "code",
   "execution_count": 4,
   "id": "bbfd39da-7a29-44da-8272-c38fad9bde3d",
   "metadata": {},
   "outputs": [],
   "source": [
    "coffee_pivot = coffee_data.pivot(columns='Coffee Type', index= 'Day', values='Revenue')"
   ]
  },
  {
   "cell_type": "code",
   "execution_count": 5,
   "id": "65944d58-9d2f-4963-9f43-8142f4cc8991",
   "metadata": {},
   "outputs": [
    {
     "data": {
      "text/html": [
       "<div>\n",
       "<style scoped>\n",
       "    .dataframe tbody tr th:only-of-type {\n",
       "        vertical-align: middle;\n",
       "    }\n",
       "\n",
       "    .dataframe tbody tr th {\n",
       "        vertical-align: top;\n",
       "    }\n",
       "\n",
       "    .dataframe thead th {\n",
       "        text-align: right;\n",
       "    }\n",
       "</style>\n",
       "<table border=\"1\" class=\"dataframe\">\n",
       "  <thead>\n",
       "    <tr style=\"text-align: right;\">\n",
       "      <th>Coffee Type</th>\n",
       "      <th>Cappuccino</th>\n",
       "      <th>Espresso</th>\n",
       "      <th>Latte</th>\n",
       "    </tr>\n",
       "    <tr>\n",
       "      <th>Day</th>\n",
       "      <th></th>\n",
       "      <th></th>\n",
       "      <th></th>\n",
       "    </tr>\n",
       "  </thead>\n",
       "  <tbody>\n",
       "    <tr>\n",
       "      <th>Friday</th>\n",
       "      <td>269.55</td>\n",
       "      <td>NaN</td>\n",
       "      <td>209.65</td>\n",
       "    </tr>\n",
       "    <tr>\n",
       "      <th>Monday</th>\n",
       "      <td>89.85</td>\n",
       "      <td>149.75</td>\n",
       "      <td>NaN</td>\n",
       "    </tr>\n",
       "    <tr>\n",
       "      <th>Saturday</th>\n",
       "      <td>NaN</td>\n",
       "      <td>269.55</td>\n",
       "      <td>209.65</td>\n",
       "    </tr>\n",
       "    <tr>\n",
       "      <th>Sunday</th>\n",
       "      <td>NaN</td>\n",
       "      <td>269.55</td>\n",
       "      <td>209.65</td>\n",
       "    </tr>\n",
       "    <tr>\n",
       "      <th>Thursday</th>\n",
       "      <td>179.70</td>\n",
       "      <td>239.60</td>\n",
       "      <td>NaN</td>\n",
       "    </tr>\n",
       "    <tr>\n",
       "      <th>Tuesday</th>\n",
       "      <td>NaN</td>\n",
       "      <td>299.50</td>\n",
       "      <td>299.50</td>\n",
       "    </tr>\n",
       "    <tr>\n",
       "      <th>Wednesday</th>\n",
       "      <td>NaN</td>\n",
       "      <td>209.65</td>\n",
       "      <td>149.75</td>\n",
       "    </tr>\n",
       "  </tbody>\n",
       "</table>\n",
       "</div>"
      ],
      "text/plain": [
       "Coffee Type  Cappuccino  Espresso   Latte\n",
       "Day                                      \n",
       "Friday           269.55       NaN  209.65\n",
       "Monday            89.85    149.75     NaN\n",
       "Saturday            NaN    269.55  209.65\n",
       "Sunday              NaN    269.55  209.65\n",
       "Thursday         179.70    239.60     NaN\n",
       "Tuesday             NaN    299.50  299.50\n",
       "Wednesday           NaN    209.65  149.75"
      ]
     },
     "execution_count": 5,
     "metadata": {},
     "output_type": "execute_result"
    }
   ],
   "source": [
    "coffee_pivot"
   ]
  },
  {
   "cell_type": "code",
   "execution_count": 8,
   "id": "a280ac30-9829-4926-838e-4ac9956d155d",
   "metadata": {},
   "outputs": [
    {
     "data": {
      "text/plain": [
       "Coffee Type\n",
       "Cappuccino     539.1\n",
       "Espresso      1437.6\n",
       "Latte         1078.2\n",
       "dtype: float64"
      ]
     },
     "execution_count": 8,
     "metadata": {},
     "output_type": "execute_result"
    }
   ],
   "source": [
    "coffee_pivot.sum()"
   ]
  },
  {
   "cell_type": "code",
   "execution_count": 6,
   "id": "27e46162-c087-45ad-82a2-bf770ed91e2c",
   "metadata": {},
   "outputs": [],
   "source": [
    "coffee_pivot2 = coffee_data.pivot(columns='Day', index= 'Coffee Type', values='Revenue')"
   ]
  },
  {
   "cell_type": "code",
   "execution_count": 7,
   "id": "124421ea-b357-4b30-8ff0-cd68f25b412e",
   "metadata": {},
   "outputs": [
    {
     "data": {
      "text/html": [
       "<div>\n",
       "<style scoped>\n",
       "    .dataframe tbody tr th:only-of-type {\n",
       "        vertical-align: middle;\n",
       "    }\n",
       "\n",
       "    .dataframe tbody tr th {\n",
       "        vertical-align: top;\n",
       "    }\n",
       "\n",
       "    .dataframe thead th {\n",
       "        text-align: right;\n",
       "    }\n",
       "</style>\n",
       "<table border=\"1\" class=\"dataframe\">\n",
       "  <thead>\n",
       "    <tr style=\"text-align: right;\">\n",
       "      <th>Day</th>\n",
       "      <th>Friday</th>\n",
       "      <th>Monday</th>\n",
       "      <th>Saturday</th>\n",
       "      <th>Sunday</th>\n",
       "      <th>Thursday</th>\n",
       "      <th>Tuesday</th>\n",
       "      <th>Wednesday</th>\n",
       "    </tr>\n",
       "    <tr>\n",
       "      <th>Coffee Type</th>\n",
       "      <th></th>\n",
       "      <th></th>\n",
       "      <th></th>\n",
       "      <th></th>\n",
       "      <th></th>\n",
       "      <th></th>\n",
       "      <th></th>\n",
       "    </tr>\n",
       "  </thead>\n",
       "  <tbody>\n",
       "    <tr>\n",
       "      <th>Cappuccino</th>\n",
       "      <td>269.55</td>\n",
       "      <td>89.85</td>\n",
       "      <td>NaN</td>\n",
       "      <td>NaN</td>\n",
       "      <td>179.7</td>\n",
       "      <td>NaN</td>\n",
       "      <td>NaN</td>\n",
       "    </tr>\n",
       "    <tr>\n",
       "      <th>Espresso</th>\n",
       "      <td>NaN</td>\n",
       "      <td>149.75</td>\n",
       "      <td>269.55</td>\n",
       "      <td>269.55</td>\n",
       "      <td>239.6</td>\n",
       "      <td>299.5</td>\n",
       "      <td>209.65</td>\n",
       "    </tr>\n",
       "    <tr>\n",
       "      <th>Latte</th>\n",
       "      <td>209.65</td>\n",
       "      <td>NaN</td>\n",
       "      <td>209.65</td>\n",
       "      <td>209.65</td>\n",
       "      <td>NaN</td>\n",
       "      <td>299.5</td>\n",
       "      <td>149.75</td>\n",
       "    </tr>\n",
       "  </tbody>\n",
       "</table>\n",
       "</div>"
      ],
      "text/plain": [
       "Day          Friday  Monday  Saturday  Sunday  Thursday  Tuesday  Wednesday\n",
       "Coffee Type                                                                \n",
       "Cappuccino   269.55   89.85       NaN     NaN     179.7      NaN        NaN\n",
       "Espresso        NaN  149.75    269.55  269.55     239.6    299.5     209.65\n",
       "Latte        209.65     NaN    209.65  209.65       NaN    299.5     149.75"
      ]
     },
     "execution_count": 7,
     "metadata": {},
     "output_type": "execute_result"
    }
   ],
   "source": [
    "coffee_pivot2"
   ]
  },
  {
   "cell_type": "code",
   "execution_count": 11,
   "id": "6eeb7679-2280-41fd-8fdf-64655ec1770b",
   "metadata": {},
   "outputs": [
    {
     "data": {
      "text/plain": [
       "Day\n",
       "Friday       479.2\n",
       "Monday       239.6\n",
       "Saturday     479.2\n",
       "Sunday       479.2\n",
       "Thursday     419.3\n",
       "Tuesday      599.0\n",
       "Wednesday    359.4\n",
       "dtype: float64"
      ]
     },
     "execution_count": 11,
     "metadata": {},
     "output_type": "execute_result"
    }
   ],
   "source": [
    "#based on days find out total sum of revenue \n",
    "coffee_pivot2.sum()"
   ]
  },
  {
   "cell_type": "code",
   "execution_count": null,
   "id": "46a47822-5462-4aa5-bcf9-29890f2c645d",
   "metadata": {},
   "outputs": [],
   "source": []
  }
 ],
 "metadata": {
  "kernelspec": {
   "display_name": "Python 3 (ipykernel)",
   "language": "python",
   "name": "python3"
  },
  "language_info": {
   "codemirror_mode": {
    "name": "ipython",
    "version": 3
   },
   "file_extension": ".py",
   "mimetype": "text/x-python",
   "name": "python",
   "nbconvert_exporter": "python",
   "pygments_lexer": "ipython3",
   "version": "3.11.4"
  },
  "widgets": {
   "application/vnd.jupyter.widget-state+json": {
    "state": {},
    "version_major": 2,
    "version_minor": 0
   }
  }
 },
 "nbformat": 4,
 "nbformat_minor": 5
}
