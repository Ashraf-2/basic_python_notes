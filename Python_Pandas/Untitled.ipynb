{
 "cells": [
  {
   "cell_type": "code",
   "execution_count": 1,
   "id": "b9ff948c-806e-422a-9546-cc282e639c1f",
   "metadata": {},
   "outputs": [],
   "source": [
    "# Rest api and HTTPs with python pandas and numpy practioce \n"
   ]
  },
  {
   "cell_type": "code",
   "execution_count": 2,
   "id": "5c6cd1f5-7df2-4941-8fb8-1edb077d54da",
   "metadata": {},
   "outputs": [],
   "source": [
    "# COURSE: Python for Data Science, AI & Development (IBM) "
   ]
  },
  {
   "cell_type": "code",
   "execution_count": 3,
   "id": "4dbca39f-c745-4639-bb91-09c224f004c1",
   "metadata": {},
   "outputs": [],
   "source": [
    "#  MODULE: 4"
   ]
  },
  {
   "cell_type": "code",
   "execution_count": 4,
   "id": "48eb0f22-a58d-4bad-8615-38f156c5dbb4",
   "metadata": {},
   "outputs": [],
   "source": [
    "# Import Beautiful Soup to parse the web page content\n",
    "from bs4 import BeautifulSoup"
   ]
  },
  {
   "cell_type": "code",
   "execution_count": 5,
   "id": "0ecd40c9-796c-4a98-b90a-21e1ae829722",
   "metadata": {},
   "outputs": [],
   "source": [
    "import requests\n",
    "from bs4 import BeautifulSoup"
   ]
  },
  {
   "cell_type": "code",
   "execution_count": 6,
   "id": "a6f70a6f-4115-48ce-8f11-b8bb04a13b0c",
   "metadata": {},
   "outputs": [],
   "source": [
    "# Specify the URL of the webpage you want to scrape\n",
    "url = 'https://en.wikipedia.org/wiki/IBM'\n",
    "# Send an HTTP GET request to the webpage\n",
    "response = requests.get(url)\n",
    "# Store the HTML content in a variable\n",
    "html_content = response.text"
   ]
  },
  {
   "cell_type": "code",
   "execution_count": 7,
   "id": "70020673-6192-434d-b2e4-4ed0515f158b",
   "metadata": {},
   "outputs": [
    {
     "name": "stdout",
     "output_type": "stream",
     "text": [
      "<!DOCTYPE html>\n",
      "<html class=\"client-nojs vector-feature-language-in-header-enabled vector-feature-language-in-main-page-header-disabled vector-feature-sticky-header-disabled vector-feature-page-tools-pinned-disabled vector-feature-toc-pinned-clientpref-1 vector-feature-main-menu-pinned-disabled vector-feature-limited-width-clientpref-1 vector-feature-limited-width-content-enabled vector-feature-custom-font-size-clientpref-1 vector-feature-appearance-enabled vector-feature-appearance-pinned-clien\n"
     ]
    }
   ],
   "source": [
    "# Create a BeautifulSoup object to parse the HTML\n",
    "soup = BeautifulSoup(html_content, 'html.parser')\n",
    "# Display a snippet of the HTML content\n",
    "print(html_content[:500])"
   ]
  },
  {
   "cell_type": "code",
   "execution_count": 8,
   "id": "83521b5c-d534-4c33-aba6-d98da1d2e3ea",
   "metadata": {},
   "outputs": [],
   "source": [
    "# Find all <a> tags (anchor tags) in the HTML\n",
    "links = soup.find_all('a')\n",
    "# links\n",
    "# Iterate through the list of links and print their text\n",
    "# for link in links:\n",
    "    # print(link.text)"
   ]
  },
  {
   "cell_type": "code",
   "execution_count": 9,
   "id": "8a3c6968-9720-4cf5-ae55-9390fcb196e0",
   "metadata": {},
   "outputs": [
    {
     "data": {
      "text/plain": [
       "<Response [200]>"
      ]
     },
     "execution_count": 9,
     "metadata": {},
     "output_type": "execute_result"
    }
   ],
   "source": [
    "response"
   ]
  },
  {
   "cell_type": "code",
   "execution_count": 10,
   "id": "061095b1-0874-41ba-9b4a-0588d2c45330",
   "metadata": {},
   "outputs": [],
   "source": [
    "# response.text"
   ]
  },
  {
   "cell_type": "code",
   "execution_count": 11,
   "id": "dd2aea22-5a1a-4e33-b79e-f2926e1b61ad",
   "metadata": {},
   "outputs": [],
   "source": [
    "# Exercise-1: Random Users"
   ]
  },
  {
   "cell_type": "code",
   "execution_count": 12,
   "id": "6fc66b67-db9c-4082-aa6e-ec23794e07aa",
   "metadata": {},
   "outputs": [],
   "source": [
    "from randomuser import RandomUser\n",
    "import pandas as pd"
   ]
  },
  {
   "cell_type": "code",
   "execution_count": null,
   "id": "d78136f5-5a15-49ad-b96b-0b5f6bf67be5",
   "metadata": {},
   "outputs": [],
   "source": [
    "r = RandomUser()"
   ]
  },
  {
   "cell_type": "code",
   "execution_count": null,
   "id": "4315c1bf-fa31-4666-a8d3-28ce4bdacf87",
   "metadata": {},
   "outputs": [],
   "source": []
  }
 ],
 "metadata": {
  "kernelspec": {
   "display_name": "Python 3 (ipykernel)",
   "language": "python",
   "name": "python3"
  },
  "language_info": {
   "codemirror_mode": {
    "name": "ipython",
    "version": 3
   },
   "file_extension": ".py",
   "mimetype": "text/x-python",
   "name": "python",
   "nbconvert_exporter": "python",
   "pygments_lexer": "ipython3",
   "version": "3.11.4"
  },
  "widgets": {
   "application/vnd.jupyter.widget-state+json": {
    "state": {},
    "version_major": 2,
    "version_minor": 0
   }
  }
 },
 "nbformat": 4,
 "nbformat_minor": 5
}
