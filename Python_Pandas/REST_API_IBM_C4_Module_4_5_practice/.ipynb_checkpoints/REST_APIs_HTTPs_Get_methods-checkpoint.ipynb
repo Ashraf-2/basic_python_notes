{
 "cells": [
  {
   "cell_type": "code",
   "execution_count": 1,
   "id": "eb085798-2aa5-45f0-a95b-55c677f07957",
   "metadata": {},
   "outputs": [],
   "source": [
    "# Rest api and HTTPs with python pandas and numpy practioce \n"
   ]
  },
  {
   "cell_type": "code",
   "execution_count": 2,
   "id": "6cfe1efd-0bee-4de0-b6a5-6321e6f11dd6",
   "metadata": {},
   "outputs": [],
   "source": [
    "# COURSE: Python for Data Science, AI & Development (IBM) "
   ]
  },
  {
   "cell_type": "code",
   "execution_count": 3,
   "id": "c3a81a13-1dc7-4356-997e-8fd446978063",
   "metadata": {},
   "outputs": [],
   "source": [
    "#  MODULE: 4"
   ]
  },
  {
   "cell_type": "code",
   "execution_count": 2,
   "id": "28c9a16b-d1cd-43ae-bb6d-c6221d5c9a82",
   "metadata": {},
   "outputs": [],
   "source": [
    "# Import Beautiful Soup to parse the web page content\n",
    "from bs4 import BeautifulSoup"
   ]
  },
  {
   "cell_type": "code",
   "execution_count": 3,
   "id": "a3f4587e-e303-492f-92f1-88c2b64cf03e",
   "metadata": {},
   "outputs": [],
   "source": [
    "import requests\n",
    "from bs4 import BeautifulSoup"
   ]
  },
  {
   "cell_type": "code",
   "execution_count": 5,
   "id": "7b5a2536-0c05-44f1-a38e-c75b9df9fba6",
   "metadata": {},
   "outputs": [],
   "source": [
    "# Specify the URL of the webpage you want to scrape\n",
    "url = 'https://en.wikipedia.org/wiki/IBM'\n",
    "# Send an HTTP GET request to the webpage\n",
    "response = requests.get(url)\n",
    "# Store the HTML content in a variable\n",
    "html_content = response.text"
   ]
  },
  {
   "cell_type": "code",
   "execution_count": 6,
   "id": "121b0b33-d9cf-402c-8394-5edc2712b77f",
   "metadata": {},
   "outputs": [
    {
     "name": "stdout",
     "output_type": "stream",
     "text": [
      "<!DOCTYPE html>\n",
      "<html class=\"client-nojs vector-feature-language-in-header-enabled vector-feature-language-in-main-page-header-disabled vector-feature-sticky-header-disabled vector-feature-page-tools-pinned-disabled vector-feature-toc-pinned-clientpref-1 vector-feature-main-menu-pinned-disabled vector-feature-limited-width-clientpref-1 vector-feature-limited-width-content-enabled vector-feature-custom-font-size-clientpref-1 vector-feature-appearance-enabled vector-feature-appearance-pinned-clien\n"
     ]
    }
   ],
   "source": [
    "# Create a BeautifulSoup object to parse the HTML\n",
    "soup = BeautifulSoup(html_content, 'html.parser')\n",
    "# Display a snippet of the HTML content\n",
    "print(html_content[:500])"
   ]
  },
  {
   "cell_type": "code",
   "execution_count": 7,
   "id": "6d64e28f-1d21-4fb6-975d-9ad04dd7139f",
   "metadata": {},
   "outputs": [],
   "source": [
    "# Find all <a> tags (anchor tags) in the HTML\n",
    "links = soup.find_all('a')\n",
    "# links\n",
    "# Iterate through the list of links and print their text\n",
    "# for link in links:\n",
    "    # print(link.text)"
   ]
  },
  {
   "cell_type": "code",
   "execution_count": null,
   "id": "adeea3c2-8eed-4171-a140-a572386066d5",
   "metadata": {},
   "outputs": [],
   "source": []
  },
  {
   "cell_type": "code",
   "execution_count": null,
   "id": "de0cf72f-d80d-4c53-9ec5-c6eaea8cde05",
   "metadata": {},
   "outputs": [],
   "source": []
  },
  {
   "cell_type": "code",
   "execution_count": null,
   "id": "eb282552-da6d-4b18-9fa0-d65e04c1e3dc",
   "metadata": {},
   "outputs": [],
   "source": []
  },
  {
   "cell_type": "code",
   "execution_count": null,
   "id": "1fa16f18-42e9-4efb-b42f-9a972d71610b",
   "metadata": {},
   "outputs": [],
   "source": []
  },
  {
   "cell_type": "code",
   "execution_count": 10,
   "id": "ed1811ce-1e55-449b-a299-d2e4a6128fd6",
   "metadata": {},
   "outputs": [
    {
     "data": {
      "text/plain": [
       "<Response [200]>"
      ]
     },
     "execution_count": 10,
     "metadata": {},
     "output_type": "execute_result"
    }
   ],
   "source": [
    "response"
   ]
  },
  {
   "cell_type": "code",
   "execution_count": null,
   "id": "b1a7db26-b68a-4d89-b4dd-7f2c309abd48",
   "metadata": {},
   "outputs": [],
   "source": [
    "# response.text"
   ]
  },
  {
   "cell_type": "code",
   "execution_count": 8,
   "id": "0763b839-f0b9-424d-977e-03f9fd13bf09",
   "metadata": {},
   "outputs": [],
   "source": [
    "# Exercise-1: Random Users"
   ]
  },
  {
   "cell_type": "code",
   "execution_count": 9,
   "id": "6f0f8790-38be-4d57-9430-27163a9f6d2d",
   "metadata": {},
   "outputs": [],
   "source": [
    "from randomuser import RandomUser\n",
    "import pandas as pd"
   ]
  },
  {
   "cell_type": "code",
   "execution_count": 10,
   "id": "d7088f2f-9ca2-4fcd-85f5-23e4b814146e",
   "metadata": {},
   "outputs": [],
   "source": [
    "r = RandomUser()"
   ]
  },
  {
   "cell_type": "code",
   "execution_count": 11,
   "id": "7d3bbc14-c0dd-4b24-817c-977dc22596aa",
   "metadata": {},
   "outputs": [],
   "source": [
    "some_list = r.generate_users(10)"
   ]
  },
  {
   "cell_type": "code",
   "execution_count": 12,
   "id": "b762c6d1-fb7e-4e70-8812-fc60ef207084",
   "metadata": {},
   "outputs": [
    {
     "data": {
      "text/plain": [
       "[<randomuser.RandomUser at 0x20b4e0ac310>,\n",
       " <randomuser.RandomUser at 0x20b4e0ac350>,\n",
       " <randomuser.RandomUser at 0x20b4e0ac390>,\n",
       " <randomuser.RandomUser at 0x20b4e0ac3d0>,\n",
       " <randomuser.RandomUser at 0x20b4e0ac410>,\n",
       " <randomuser.RandomUser at 0x20b4e0ac490>,\n",
       " <randomuser.RandomUser at 0x20b4e0ac4d0>,\n",
       " <randomuser.RandomUser at 0x20b4e0ac510>,\n",
       " <randomuser.RandomUser at 0x20b4e0ac550>,\n",
       " <randomuser.RandomUser at 0x20b4e0ac450>]"
      ]
     },
     "execution_count": 12,
     "metadata": {},
     "output_type": "execute_result"
    }
   ],
   "source": [
    "some_list"
   ]
  },
  {
   "cell_type": "code",
   "execution_count": 13,
   "id": "a08782e5-413c-4df1-885e-9fe6b9dae2b2",
   "metadata": {},
   "outputs": [],
   "source": [
    "name = r.get_full_name()"
   ]
  },
  {
   "cell_type": "code",
   "execution_count": 14,
   "id": "61e1aca7-ad00-49b7-8f28-6903100e3f1a",
   "metadata": {},
   "outputs": [
    {
     "data": {
      "text/plain": [
       "'Yvana Janga'"
      ]
     },
     "execution_count": 14,
     "metadata": {},
     "output_type": "execute_result"
    }
   ],
   "source": [
    "name"
   ]
  },
  {
   "cell_type": "code",
   "execution_count": 15,
   "id": "97b15e6c-79d3-4a97-b117-dc7e45dda638",
   "metadata": {},
   "outputs": [
    {
     "data": {
      "text/plain": [
       "'(06) 02447634'"
      ]
     },
     "execution_count": 15,
     "metadata": {},
     "output_type": "execute_result"
    }
   ],
   "source": [
    "cell = r.get_cell()\n",
    "cell"
   ]
  },
  {
   "cell_type": "code",
   "execution_count": 16,
   "id": "4ddf2cef-eabb-448e-afb0-18b967494e08",
   "metadata": {},
   "outputs": [
    {
     "data": {
      "text/plain": [
       "{'seed': '8fc2f3aeef9970db', 'results': 1, 'page': 1, 'version': '1.3'}"
      ]
     },
     "execution_count": 16,
     "metadata": {},
     "output_type": "execute_result"
    }
   ],
   "source": [
    "info = r.get_info()\n",
    "info"
   ]
  },
  {
   "cell_type": "code",
   "execution_count": 17,
   "id": "797493e2-3896-46a2-8fb0-9f3e3acf83c2",
   "metadata": {},
   "outputs": [
    {
     "name": "stdout",
     "output_type": "stream",
     "text": [
      "Juan Martinez   juan.martinez@example.com\n",
      "Ella Hughes   ella.hughes@example.com\n",
      "Henry White   henry.white@example.com\n",
      "Gerardo Esteban   gerardo.esteban@example.com\n",
      "Lenice Mendes   lenice.mendes@example.com\n",
      "Tom Bates   tom.bates@example.com\n",
      "Josefine Mortensen   josefine.mortensen@example.com\n",
      "Aurora Moya   aurora.moya@example.com\n",
      "Darren Holt   darren.holt@example.com\n",
      "Alfonso Dijkmans   alfonso.dijkmans@example.com\n"
     ]
    }
   ],
   "source": [
    "dic_user_info = {}\n",
    "for user in some_list:\n",
    "    print (user.get_full_name(),\" \",user.get_email())\n",
    "    # dic_user_info[user.get_full_name()] = [user.get_age, user.get_city, user.get_country, user.get_dob, user.get_email, user.get_gender, user.get_phone]\n",
    "    # dic_user_info[user.get_full_name] = user.get_age"
   ]
  },
  {
   "cell_type": "code",
   "execution_count": 18,
   "id": "f5faffb6-8baf-4785-a359-7d14331ee86a",
   "metadata": {},
   "outputs": [
    {
     "name": "stdout",
     "output_type": "stream",
     "text": [
      "Juan Martinez   https://randomuser.me/api/portraits/men/47.jpg\n",
      "Ella Hughes   https://randomuser.me/api/portraits/women/24.jpg\n",
      "Henry White   https://randomuser.me/api/portraits/men/30.jpg\n",
      "Gerardo Esteban   https://randomuser.me/api/portraits/men/90.jpg\n",
      "Lenice Mendes   https://randomuser.me/api/portraits/women/35.jpg\n",
      "Tom Bates   https://randomuser.me/api/portraits/men/56.jpg\n",
      "Josefine Mortensen   https://randomuser.me/api/portraits/women/39.jpg\n",
      "Aurora Moya   https://randomuser.me/api/portraits/women/72.jpg\n",
      "Darren Holt   https://randomuser.me/api/portraits/men/25.jpg\n",
      "Alfonso Dijkmans   https://randomuser.me/api/portraits/men/45.jpg\n"
     ]
    }
   ],
   "source": [
    "#In this Exercise, generate photos of the random 10 users.\n",
    "for user in some_list:\n",
    "    print (user.get_full_name(),\" \",user.get_picture())"
   ]
  },
  {
   "cell_type": "code",
   "execution_count": 19,
   "id": "d0633870-863d-4031-a812-abc57f54f690",
   "metadata": {},
   "outputs": [],
   "source": [
    "def get_users():\n",
    "    users =[]\n",
    "     \n",
    "    for user in RandomUser.generate_users(10):\n",
    "        users.append({\"Name\":user.get_full_name(),\"Gender\":user.get_gender(),\"City\":user.get_city(),\"State\":user.get_state(),\"Email\":user.get_email(), \"DOB\":user.get_dob(),\"Picture\":user.get_picture()})\n",
    "      \n",
    "    return pd.DataFrame(users)     \n"
   ]
  },
  {
   "cell_type": "code",
   "execution_count": null,
   "id": "6f9c1de2-d23a-4e66-832f-ca8d71b9bf09",
   "metadata": {},
   "outputs": [],
   "source": [
    "get_users()"
   ]
  },
  {
   "cell_type": "code",
   "execution_count": null,
   "id": "b7f6ce1f-bdf0-4886-afc0-43a01d63639b",
   "metadata": {},
   "outputs": [],
   "source": []
  },
  {
   "cell_type": "code",
   "execution_count": null,
   "id": "4db1fd82-c47e-4643-b176-9b987de66080",
   "metadata": {},
   "outputs": [],
   "source": [
    "df1 = pd.DataFrame(get_users())"
   ]
  },
  {
   "cell_type": "code",
   "execution_count": null,
   "id": "9146f0af-c104-4ab7-9179-513808957897",
   "metadata": {},
   "outputs": [],
   "source": []
  },
  {
   "cell_type": "code",
   "execution_count": null,
   "id": "f3425537-7015-4430-9a94-ee824ae61265",
   "metadata": {},
   "outputs": [],
   "source": [
    "#Example 2: Fruityvice API"
   ]
  },
  {
   "cell_type": "code",
   "execution_count": null,
   "id": "e2ef7239-a939-4a6e-bcdd-7f52c1aec3f2",
   "metadata": {},
   "outputs": [],
   "source": [
    "import requests\n",
    "import json"
   ]
  },
  {
   "cell_type": "code",
   "execution_count": null,
   "id": "1e106f05-58b9-40e9-a2d4-539120735445",
   "metadata": {},
   "outputs": [],
   "source": []
  }
 ],
 "metadata": {
  "kernelspec": {
   "display_name": "Python 3 (ipykernel)",
   "language": "python",
   "name": "python3"
  },
  "language_info": {
   "codemirror_mode": {
    "name": "ipython",
    "version": 3
   },
   "file_extension": ".py",
   "mimetype": "text/x-python",
   "name": "python",
   "nbconvert_exporter": "python",
   "pygments_lexer": "ipython3",
   "version": "3.11.4"
  },
  "widgets": {
   "application/vnd.jupyter.widget-state+json": {
    "state": {},
    "version_major": 2,
    "version_minor": 0
   }
  }
 },
 "nbformat": 4,
 "nbformat_minor": 5
}
