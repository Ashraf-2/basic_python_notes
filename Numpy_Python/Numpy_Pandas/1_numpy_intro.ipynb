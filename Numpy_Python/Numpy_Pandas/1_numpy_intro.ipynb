{
 "cells": [
  {
   "cell_type": "markdown",
   "id": "dd893835-fc07-44e8-94ef-453af7b72460",
   "metadata": {},
   "source": [
    "Numpy Excercise, WScube 1 Hr tutorial."
   ]
  },
  {
   "cell_type": "code",
   "execution_count": 2,
   "id": "26196801-fefb-4a33-9720-89102dff1a5d",
   "metadata": {},
   "outputs": [],
   "source": [
    "import numpy as np"
   ]
  },
  {
   "cell_type": "code",
   "execution_count": 3,
   "id": "298165b2-7dee-4e7b-bef3-7b8180f8900e",
   "metadata": {},
   "outputs": [
    {
     "name": "stdout",
     "output_type": "stream",
     "text": [
      "[20, 30, 40, 50, 60, 70]\n"
     ]
    }
   ],
   "source": [
    "# list \n",
    "l1 = [20,30,40]\n",
    "l2 = [50,60,70] \n",
    "print(l1+l2)"
   ]
  },
  {
   "cell_type": "code",
   "execution_count": 5,
   "id": "06548106-a3f6-4843-a55a-066151ffe8db",
   "metadata": {},
   "outputs": [
    {
     "data": {
      "text/plain": [
       "[50, 60, 70, 50, 60, 70]"
      ]
     },
     "execution_count": 5,
     "metadata": {},
     "output_type": "execute_result"
    }
   ],
   "source": [
    "# list \n",
    "l2*2 "
   ]
  },
  {
   "cell_type": "code",
   "execution_count": 8,
   "id": "4aa0dbf0-6deb-4f54-b8ca-0761a2800bed",
   "metadata": {},
   "outputs": [
    {
     "name": "stdout",
     "output_type": "stream",
     "text": [
      "[50 50 50]\n"
     ]
    }
   ],
   "source": [
    "# numpy array\n",
    "a = np.array([20,30,40])\n",
    "b = np.array([30,20,10]) \n",
    "print(a+b)"
   ]
  },
  {
   "cell_type": "code",
   "execution_count": 7,
   "id": "321fb1b2-89cf-46cc-a1c3-91610fe8469f",
   "metadata": {},
   "outputs": [
    {
     "data": {
      "text/plain": [
       "array([40, 60, 80])"
      ]
     },
     "execution_count": 7,
     "metadata": {},
     "output_type": "execute_result"
    }
   ],
   "source": [
    "a*2"
   ]
  },
  {
   "cell_type": "markdown",
   "id": "929aad19-2c89-4b5d-96e9-2acbc5297c1a",
   "metadata": {},
   "source": [
    "Array can not take multiple data type "
   ]
  },
  {
   "cell_type": "code",
   "execution_count": 10,
   "id": "b1e23ce8-e13f-48a0-8b47-25b8d00bcae2",
   "metadata": {},
   "outputs": [
    {
     "data": {
      "text/plain": [
       "array(['20', '30', '4'], dtype='<U21')"
      ]
     },
     "execution_count": 10,
     "metadata": {},
     "output_type": "execute_result"
    }
   ],
   "source": [
    "# one string data makes all other data into string .\n",
    "c = np.array([20,30,'4'])\n",
    "c"
   ]
  },
  {
   "cell_type": "markdown",
   "id": "b0bd1110-b05e-4f9c-a8e7-59f793250f1c",
   "metadata": {},
   "source": [
    "Numpy takes less memory in memory "
   ]
  },
  {
   "cell_type": "code",
   "execution_count": 12,
   "id": "62a6b8d1-03fa-4a1f-a753-50a6c8abbc7c",
   "metadata": {},
   "outputs": [
    {
     "data": {
      "text/plain": [
       "array([20, 30, 40])"
      ]
     },
     "execution_count": 12,
     "metadata": {},
     "output_type": "execute_result"
    }
   ],
   "source": [
    "a = np.array([20,30,40])\n",
    "a"
   ]
  },
  {
   "cell_type": "code",
   "execution_count": 14,
   "id": "62645734-fb6e-43ac-bdae-b7183d4f9c6b",
   "metadata": {},
   "outputs": [
    {
     "data": {
      "text/plain": [
       "[20, 30, 40]"
      ]
     },
     "execution_count": 14,
     "metadata": {},
     "output_type": "execute_result"
    }
   ],
   "source": [
    "l1 = [20,30,40]\n",
    "l1"
   ]
  },
  {
   "cell_type": "markdown",
   "id": "6a17ccd6-1a72-4d98-a5ab-5d60d251f38b",
   "metadata": {},
   "source": [
    "-- Multi Dimantional Array -- "
   ]
  },
  {
   "cell_type": "code",
   "execution_count": 17,
   "id": "dcd9cb75-d6b8-482e-834a-14928be0207a",
   "metadata": {},
   "outputs": [],
   "source": [
    "ar_d = np.array ([[10,20,30,40],[50,60,70,80]]) # two raws and two column "
   ]
  },
  {
   "cell_type": "code",
   "execution_count": 18,
   "id": "e1ab3bdc-320a-4942-a264-7e94f9516011",
   "metadata": {},
   "outputs": [
    {
     "data": {
      "text/plain": [
       "array([[10, 20, 30, 40],\n",
       "       [50, 60, 70, 80]])"
      ]
     },
     "execution_count": 18,
     "metadata": {},
     "output_type": "execute_result"
    }
   ],
   "source": [
    "ar_d"
   ]
  },
  {
   "cell_type": "code",
   "execution_count": 19,
   "id": "995ff72e-af99-42d9-b9cf-0969aa793e4c",
   "metadata": {},
   "outputs": [
    {
     "data": {
      "text/plain": [
       "array([20, 30, 40])"
      ]
     },
     "execution_count": 19,
     "metadata": {},
     "output_type": "execute_result"
    }
   ],
   "source": [
    "a = np.array([20,30,40,50,60,70])\n",
    "a[0:3]"
   ]
  },
  {
   "cell_type": "code",
   "execution_count": 20,
   "id": "4af1da9d-426c-48db-86d3-3c80991b22c1",
   "metadata": {},
   "outputs": [
    {
     "data": {
      "text/plain": [
       "array([20, 30, 40, 50, 60, 70])"
      ]
     },
     "execution_count": 20,
     "metadata": {},
     "output_type": "execute_result"
    }
   ],
   "source": [
    "a[0:]"
   ]
  },
  {
   "cell_type": "code",
   "execution_count": 21,
   "id": "71b97f71-6d07-4a6e-a4ff-dc0cf4502f03",
   "metadata": {},
   "outputs": [
    {
     "data": {
      "text/plain": [
       "array([20, 30, 40, 50, 60, 70])"
      ]
     },
     "execution_count": 21,
     "metadata": {},
     "output_type": "execute_result"
    }
   ],
   "source": [
    "a[:]"
   ]
  },
  {
   "cell_type": "code",
   "execution_count": 22,
   "id": "b6bb0a68-40d8-45c0-b7ea-23d4204cd9b9",
   "metadata": {},
   "outputs": [
    {
     "data": {
      "text/plain": [
       "array([20, 30, 40, 50, 60])"
      ]
     },
     "execution_count": 22,
     "metadata": {},
     "output_type": "execute_result"
    }
   ],
   "source": [
    "a[:5]"
   ]
  },
  {
   "cell_type": "code",
   "execution_count": 23,
   "id": "6ab89357-204e-48f0-b793-aa407277453b",
   "metadata": {},
   "outputs": [
    {
     "data": {
      "text/plain": [
       "array([40])"
      ]
     },
     "execution_count": 23,
     "metadata": {},
     "output_type": "execute_result"
    }
   ],
   "source": [
    "a[2:3]"
   ]
  },
  {
   "cell_type": "code",
   "execution_count": 24,
   "id": "16c41cd7-81a9-4f11-a65f-8539ab277c99",
   "metadata": {},
   "outputs": [
    {
     "data": {
      "text/plain": [
       "array([20, 30])"
      ]
     },
     "execution_count": 24,
     "metadata": {},
     "output_type": "execute_result"
    }
   ],
   "source": [
    "a[0:2]"
   ]
  },
  {
   "cell_type": "code",
   "execution_count": 27,
   "id": "b68e0d82-7d4d-4092-90b5-dab2aac43628",
   "metadata": {},
   "outputs": [
    {
     "data": {
      "text/plain": [
       "array([[10, 20],\n",
       "       [30, 60]])"
      ]
     },
     "execution_count": 27,
     "metadata": {},
     "output_type": "execute_result"
    }
   ],
   "source": [
    "ar2 = np.array([[10,20,30,40],[30,60,90,95]])\n",
    "ar2[0:2,0:2]"
   ]
  },
  {
   "cell_type": "code",
   "execution_count": 28,
   "id": "dbd5b2ab-39da-46da-942c-7e300daecccc",
   "metadata": {},
   "outputs": [
    {
     "data": {
      "text/plain": [
       "array([20, 30])"
      ]
     },
     "execution_count": 28,
     "metadata": {},
     "output_type": "execute_result"
    }
   ],
   "source": [
    "ar2[0,1:3]"
   ]
  },
  {
   "cell_type": "code",
   "execution_count": 29,
   "id": "ea842a7c-ef85-4a11-a7c5-4cf1bdde7fe6",
   "metadata": {},
   "outputs": [
    {
     "data": {
      "text/plain": [
       "array([60, 90])"
      ]
     },
     "execution_count": 29,
     "metadata": {},
     "output_type": "execute_result"
    }
   ],
   "source": [
    "ar2[1,1:3]"
   ]
  },
  {
   "cell_type": "code",
   "execution_count": 32,
   "id": "fd9a5e9b-fa3e-4a92-b2b5-d415b99eaac2",
   "metadata": {},
   "outputs": [
    {
     "data": {
      "text/plain": [
       "array([25, 35])"
      ]
     },
     "execution_count": 32,
     "metadata": {},
     "output_type": "execute_result"
    }
   ],
   "source": [
    "ar2 = np.array([[10,20,30,40],[30,60,90,95],[15,25,35,45]])\n",
    "ar2[2,1:3]"
   ]
  },
  {
   "cell_type": "code",
   "execution_count": 33,
   "id": "2a9b1201-d56e-44d2-84b4-6b4678e369b6",
   "metadata": {},
   "outputs": [
    {
     "data": {
      "text/plain": [
       "np.int64(25)"
      ]
     },
     "execution_count": 33,
     "metadata": {},
     "output_type": "execute_result"
    }
   ],
   "source": [
    "ar2 = np.array([[10,20,30,40],[30,60,90,95],[15,25,35,45]])\n",
    "ar2[2,1]"
   ]
  },
  {
   "cell_type": "code",
   "execution_count": 35,
   "id": "0af99956-f584-4cad-b51d-7c72777aa646",
   "metadata": {},
   "outputs": [
    {
     "data": {
      "text/plain": [
       "(3, 4)"
      ]
     },
     "execution_count": 35,
     "metadata": {},
     "output_type": "execute_result"
    }
   ],
   "source": [
    "np.shape(ar2) # rows and column "
   ]
  },
  {
   "cell_type": "code",
   "execution_count": 37,
   "id": "d94c3bd2-6aa0-4dea-ae04-ddd2b6965529",
   "metadata": {},
   "outputs": [
    {
     "data": {
      "text/plain": [
       "12"
      ]
     },
     "execution_count": 37,
     "metadata": {},
     "output_type": "execute_result"
    }
   ],
   "source": [
    "np.size(ar2) # total 12 elements. "
   ]
  },
  {
   "cell_type": "code",
   "execution_count": 39,
   "id": "35cde185-3761-4e34-ac8d-dd8ed705828c",
   "metadata": {},
   "outputs": [
    {
     "data": {
      "text/plain": [
       "2"
      ]
     },
     "execution_count": 39,
     "metadata": {},
     "output_type": "execute_result"
    }
   ],
   "source": [
    "np.ndim(ar2) # number of dimention. "
   ]
  },
  {
   "cell_type": "code",
   "execution_count": 41,
   "id": "cba78636-6d02-41fe-8321-ca262f921762",
   "metadata": {},
   "outputs": [
    {
     "data": {
      "text/plain": [
       "dtype('int64')"
      ]
     },
     "execution_count": 41,
     "metadata": {},
     "output_type": "execute_result"
    }
   ],
   "source": [
    "ar2.dtype # data type "
   ]
  },
  {
   "cell_type": "code",
   "execution_count": null,
   "id": "e272764f-fe11-4e93-9fc0-56834c60fe0a",
   "metadata": {},
   "outputs": [],
   "source": []
  },
  {
   "cell_type": "code",
   "execution_count": null,
   "id": "09af2bdd-3e62-4566-a5f4-ca402007cfd4",
   "metadata": {},
   "outputs": [],
   "source": []
  },
  {
   "cell_type": "code",
   "execution_count": null,
   "id": "103d1fd0-3c39-49fa-8f29-654a5d4bd1eb",
   "metadata": {},
   "outputs": [],
   "source": []
  },
  {
   "cell_type": "code",
   "execution_count": null,
   "id": "30b96373-bca6-4c03-9552-9b19170e40cc",
   "metadata": {},
   "outputs": [],
   "source": []
  },
  {
   "cell_type": "code",
   "execution_count": null,
   "id": "33ee58b2-5a6a-4eb3-9001-5405dea231bf",
   "metadata": {},
   "outputs": [],
   "source": []
  },
  {
   "cell_type": "code",
   "execution_count": null,
   "id": "ec2441df-3621-47f8-a214-3c111c25f2d4",
   "metadata": {},
   "outputs": [],
   "source": []
  }
 ],
 "metadata": {
  "kernelspec": {
   "display_name": "Python 3 (ipykernel)",
   "language": "python",
   "name": "python3"
  },
  "language_info": {
   "codemirror_mode": {
    "name": "ipython",
    "version": 3
   },
   "file_extension": ".py",
   "mimetype": "text/x-python",
   "name": "python",
   "nbconvert_exporter": "python",
   "pygments_lexer": "ipython3",
   "version": "3.11.4"
  },
  "widgets": {
   "application/vnd.jupyter.widget-state+json": {
    "state": {},
    "version_major": 2,
    "version_minor": 0
   }
  }
 },
 "nbformat": 4,
 "nbformat_minor": 5
}
